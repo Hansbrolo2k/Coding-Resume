{
 "cells": [
  {
   "cell_type": "markdown",
   "metadata": {},
   "source": [
    "# NEON Project with NSF\n",
    "This was the final project I conducted in Python. This code demonstrates my capabilities to think at the granular level even when managing 'Big Data' in order to manipulate it to a form fit for analysis and visualization.\n",
    "\n",
    "Since this project, most of my work has been in R, and I have transitioned to be a more functional coder. This is beneficial as many of the Python functions are identical or similar to R in both function naming schemes and arguments."
   ]
  },
  {
   "cell_type": "code",
   "execution_count": 1,
   "metadata": {},
   "outputs": [
    {
     "data": {
      "text/plain": [
       "<generator object walk at 0x0000022B5A3E1350>"
      ]
     },
     "execution_count": 1,
     "metadata": {},
     "output_type": "execute_result"
    }
   ],
   "source": [
    "import os\n",
    "os.walk(\"D:/NEON_temp-soil/NEON_temp-soil\")"
   ]
  },
  {
   "cell_type": "code",
   "execution_count": 3,
   "metadata": {},
   "outputs": [],
   "source": [
    "for root, dirs, files in os.walk(\"D:/NEON_temp-soil/NEON_temp-soil\", topdown=False):\n",
    "   for name in files:\n",
    "      print(os.path.join(root, name))\n",
    "   for name in dirs:\n",
    "      print(os.path.join(root, name))"
   ]
  },
  {
   "cell_type": "markdown",
   "metadata": {},
   "source": [
    "# import os\n",
    "import csv\n",
    "counter = 0\n",
    "dataBONA = []\n",
    "dataDEJU = []\n",
    "dataHEAL = []\n",
    "for(root, dirs, files) in os.walk('D:/Final Files/NEON_conc-co2-soil/NEON_conc-co2-soil', topdown = True):    \n",
    "    if(counter == 0):\n",
    "        #print(root)\n",
    "        pathing = root\n",
    "        #print('------------')\n",
    "    elif(root.split(\".\")[2] == \"BONA\"):\n",
    "        for fname in files:\n",
    "            if(files[1].split(\".\")[9] == \"SCO2C_30_minute\"):\n",
    "                name = root+\"/\"+files[1]\n",
    "                with open(name, newline = '') as csvfile:\n",
    "                    reader = csv.reader(csvfile, delimiter = \",\")\n",
    "                    firstrow = True\n",
    "                    for row in reader:\n",
    "                        if(firstrow != True):\n",
    "                            if(row not in dataBONA):\n",
    "                                dataBONA.append(row)\n",
    "                        firstrow = False\n",
    "    elif(root.split(\".\")[2] == \"DEJU\"):\n",
    "        for fname in files:\n",
    "            if(files[1].split(\".\")[9] == \"SCO2C_30_minute\"):\n",
    "                name = root+\"/\"+files[1]\n",
    "                with open(name, newline = '') as csvfile:\n",
    "                    reader = csv.reader(csvfile, delimiter = \",\")\n",
    "                    firstrow = True\n",
    "                    for row in reader:\n",
    "                        if(firstrow != True):\n",
    "                            if(row not in dataDEJU):\n",
    "                                dataDEJU.append(row)\n",
    "                        firstrow = False\n",
    "    elif(root.split(\".\")[2] == \"HEAL\"):\n",
    "        for fname in files:\n",
    "            if(files[1].split(\".\")[9] == \"SCO2C_30_minute\"):\n",
    "                name = root+\"/\"+files[1]\n",
    "                with open(name, newline = '') as csvfile:\n",
    "                    reader = csv.reader(csvfile, delimiter = \",\")\n",
    "                    firstrow = True\n",
    "                    for row in reader:\n",
    "                        if(firstrow != True):\n",
    "                            if(row not in dataHEAL):\n",
    "                                dataHEAL.append(row)\n",
    "                        firstrow = False    \n",
    "    counter = counter + 1\n"
   ]
  },
  {
   "cell_type": "code",
   "execution_count": 4,
   "metadata": {},
   "outputs": [],
   "source": [
    "import os\n",
    "import csv\n",
    "monthdays = [0,31,28,31,30,31,30,31,31,30,31,30,31]\n",
    "counter = 0\n",
    "rowcount = 0\n",
    "dataBONA = []\n",
    "dataDEJU = []\n",
    "dataHEAL = []\n",
    "BONAtime = 0\n",
    "DEJUtime = 0\n",
    "HEALtime = 0\n",
    "for(root, dirs, files) in os.walk('data/NEON_conc-co2-soil', topdown = True):    \n",
    "    if(counter == 0):\n",
    "        #print(root)\n",
    "        pathing = root\n",
    "        #print('------------')\n",
    "    elif(root.split(\".\")[2] == \"BONA\"):\n",
    "        for fname in files:\n",
    "            if(files[1].split(\".\")[9] == \"SCO2C_30_minute\"):\n",
    "                name = root+\"/\"+files[1]\n",
    "                with open(name, newline = '') as csvfile:\n",
    "                    reader = csv.reader(csvfile, delimiter = \",\")\n",
    "                    firstrow = True\n",
    "                    for row in reader:\n",
    "                        if(firstrow != True):\n",
    "                            part=row[0].split(\"-\")\n",
    "                            part2 = part[2].split(\"T\")\n",
    "                            part3 = part2[1].split(\":\")\n",
    "                            extradays = sum(monthdays[0:int(part[1])])\n",
    "                            if(int(part[0])%4 == 0 and int(part[1]) >= 3):\n",
    "                                extradays = extradays+1\n",
    "                            time = 365*float(part[0])+extradays+float(part2[0])+(float(part3[0])+float(part3[1])/60)/24\n",
    "                            if(time > BONAtime):\n",
    "                                dataBONA.append(row)\n",
    "                                BONAtime=time\n",
    "                                rowcount = rowcount+1\n",
    "                                print(rowcount)\n",
    "                        firstrow = False\n",
    "    counter = counter + 1"
   ]
  },
  {
   "cell_type": "code",
   "execution_count": 7,
   "metadata": {},
   "outputs": [],
   "source": [
    "with open(\"C:/Users/brody/Desktop/School/M.S/Stat/Stat 490/Final Files/HEALCARBON.csv\", 'w', newline= '') as f:\n",
    "    write = csv.writer(f)\n",
    "    write.writerows(dataHEAL)\n",
    "with open(\"C:/Users/brody/Desktop/School/M.S/Stat/Stat 490/Final Files/DEJUCARBON.csv\", 'w', newline= '') as f:\n",
    "    write = csv.writer(f)\n",
    "    write.writerows(dataDEJU)\n",
    "with open(\"C:/Users/brody/Desktop/School/M.S/Stat/Stat 490/Final Files/BONACARBON.csv\", 'w', newline= '') as f:\n",
    "    write = csv.writer(f)\n",
    "    write.writerows(dataBONA)"
   ]
  }
 ],
 "metadata": {
  "kernelspec": {
   "display_name": "Python 3",
   "language": "python",
   "name": "python3"
  },
  "language_info": {
   "codemirror_mode": {
    "name": "ipython",
    "version": 3
   },
   "file_extension": ".py",
   "mimetype": "text/x-python",
   "name": "python",
   "nbconvert_exporter": "python",
   "pygments_lexer": "ipython3",
   "version": "3.8.3"
  }
 },
 "nbformat": 4,
 "nbformat_minor": 4
}
